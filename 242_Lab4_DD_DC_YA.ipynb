{
 "cells": [
  {
   "cell_type": "markdown",
   "id": "46bd0dc9",
   "metadata": {},
   "source": [
    "# Assignment 1 "
   ]
  },
  {
   "cell_type": "code",
   "execution_count": 1,
   "id": "c9e379dd",
   "metadata": {},
   "outputs": [
    {
     "ename": "ModuleNotFoundError",
     "evalue": "No module named 'simpleaudio'",
     "output_type": "error",
     "traceback": [
      "\u001b[0;31m---------------------------------------------------------------------------\u001b[0m",
      "\u001b[0;31mModuleNotFoundError\u001b[0m                       Traceback (most recent call last)",
      "\u001b[0;32m<ipython-input-1-486394bf8456>\u001b[0m in \u001b[0;36m<module>\u001b[0;34m\u001b[0m\n\u001b[1;32m      4\u001b[0m \u001b[0;32mfrom\u001b[0m \u001b[0mscipy\u001b[0m\u001b[0;34m.\u001b[0m\u001b[0mio\u001b[0m \u001b[0;32mimport\u001b[0m \u001b[0mwavfile\u001b[0m \u001b[0;32mas\u001b[0m \u001b[0mwav\u001b[0m\u001b[0;34m\u001b[0m\u001b[0;34m\u001b[0m\u001b[0m\n\u001b[1;32m      5\u001b[0m \u001b[0;32mfrom\u001b[0m \u001b[0mscipy\u001b[0m \u001b[0;32mimport\u001b[0m \u001b[0msignal\u001b[0m \u001b[0;32mas\u001b[0m \u001b[0msig\u001b[0m\u001b[0;34m\u001b[0m\u001b[0;34m\u001b[0m\u001b[0m\n\u001b[0;32m----> 6\u001b[0;31m \u001b[0;32mimport\u001b[0m \u001b[0msimpleaudio\u001b[0m \u001b[0;32mas\u001b[0m \u001b[0msa\u001b[0m\u001b[0;34m\u001b[0m\u001b[0;34m\u001b[0m\u001b[0m\n\u001b[0m",
      "\u001b[0;31mModuleNotFoundError\u001b[0m: No module named 'simpleaudio'"
     ]
    }
   ],
   "source": [
    "import numpy as np\n",
    "from scipy import signal\n",
    "import matplotlib.pyplot as plt\n",
    "from scipy.io import wavfile as wav\n",
    "from scipy import signal as sig\n",
    "import simpleaudio as sa "
   ]
  },
  {
   "cell_type": "code",
   "execution_count": null,
   "id": "9ee3760d",
   "metadata": {},
   "outputs": [],
   "source": [
    "# Assignment 1\n",
    "# Part 1\n",
    "def freq_response(a, b, flag='mag', fs=0):\n",
    "    # freqz returns w = freqs at which h was computed and h = freq response as complex\n",
    "    w_a1_p1, h_a1_p1 = signal.freqz(b, a)\n",
    "    # Ignore y-lim of [-100,0] from instructions\n",
    "    fig, ax1 = plt.subplots()\n",
    "    ax1.set_title('Magnitude Frequency Response')\n",
    "    # Plotting mag\n",
    "    ax1.plot(w_a1_p1, 20*np.log10(abs(h_a1_p1)))\n",
    "    if flag == 'phase':\n",
    "        fig, ax2 = plt.subplots()\n",
    "        ax2.set_title('Phase Frequency Response')\n",
    "        if fs == 0:\n",
    "            # Plotting phase with no fs\n",
    "            angles = np.rad2deg(np.unwrap(np.angle(h_a1_p1)))\n",
    "            ax2.plot(w_a1_p1, angles)\n",
    "        else:\n",
    "            # Plotting phase with fs (need formula to convert)\n",
    "            f = w_a1_p1*fs/(2*np.pi)\n",
    "            ax2.plot(w_a1_p1, f)\n",
    "            \n",
    "# Part 2\n",
    "def impulse_response(a, b, length):\n",
    "    # Make an array with first value equal to 1 and rest length amount of 0's\n",
    "    zero = [0] * length\n",
    "    x = np.concatenate([[1], zero])\n",
    "    # lfilter returns impulse response\n",
    "    y = signal.lfilter(b, a, x)\n",
    "    fig, ax3 = plt.subplots()\n",
    "    ax3.set_title('Impulse Response')\n",
    "    # Plot as stem\n",
    "    plt.stem(y)\n",
    "        \n",
    "# Part 3\n",
    "# FIR \"a\" coeffs always 1\n",
    "sig_a1_p3 = signal.firwin(20, 0.15)\n",
    "sig2_a1_p3 = signal.butter(10, 0.15)\n",
    "freq_response(1, sig_a1_p3, 'phase')\n",
    "freq_response(sig2_a1_p3[1], sig2_a1_p3[0], 'phase')\n",
    "# Length customizable\n",
    "impulse_response(1, sig_a1_p3, 40)\n",
    "impulse_response(sig2_a1_p3[1], sig2_a1_p3[0], 40)\n"
   ]
  },
  {
   "cell_type": "markdown",
   "id": "637d0d9a",
   "metadata": {},
   "source": [
    "# Discussion 1"
   ]
  },
  {
   "cell_type": "markdown",
   "id": "acddd3c3",
   "metadata": {},
   "source": [
    "Magnitude and phases for both filters are roughly the same. FIR filter experiences more oscillation in that it's graphs for mag and phases bounce betweeen two values for a while. However, ultimate, the values for both filters both go downwards towards the same end value. Initially, the impulse response is the same. However, the butter filter experiences more oscillation. FIRs usually require many more coefficients for achieving a sharp cut-off than IIR. FIR can never be unstable whereas IIR may be."
   ]
  },
  {
   "cell_type": "markdown",
   "id": "da9dcc6f",
   "metadata": {},
   "source": [
    "# Assignment 2"
   ]
  },
  {
   "cell_type": "code",
   "execution_count": null,
   "id": "00b7d74b",
   "metadata": {},
   "outputs": [],
   "source": [
    "# Part 1\n",
    "# Make the noisy signal (code from lab 2)\n",
    "srate = 1000\n",
    "# Instructions don't say what time to have\n",
    "time = np.arange(0,2,1/srate) \n",
    "n = len(time)\n",
    "p = 10\n",
    "amp = 20\n",
    "base = np.interp(np.linspace(0,p,n),np.arange(0,p),np.random.rand(p)*amp)\n",
    "noiseamp = 2\n",
    "noise = noiseamp * np.random.randn(n)\n",
    "noisy = base + noise\n",
    "fig, ax1 = plt.subplots()\n",
    "plt.ylim(0, 25)\n",
    "ax1.plot(time, noisy, label = 'noisy')\n",
    "ax1.plot(time, base, label = 'base')\n",
    "plt.legend()\n",
    "\n",
    "# Part 2\n",
    "k = 20\n",
    "N = 2 * k + 1\n",
    "hfilt = np.ones(N) / N\n",
    "filtsig1 = np.convolve(noisy, hfilt)\n",
    "filtsig2 = signal.lfilter(hfilt, 1, noisy)\n",
    "newtime = np.arange(0, len(filtsig1))*1/srate\n",
    "fig, ax1 = plt.subplots()\n",
    "ax1.plot(newtime, filtsig1)\n",
    "ax1.plot(time, filtsig2)\n",
    "\n",
    "# Part 3\n",
    "freq_response(1, hfilt, 'phase')"
   ]
  },
  {
   "cell_type": "markdown",
   "id": "45b31393",
   "metadata": {},
   "source": [
    "# Discussion 2 "
   ]
  },
  {
   "cell_type": "markdown",
   "id": "9cd9271e",
   "metadata": {},
   "source": [
    "The graph of the mag may not oscillate and may be curved rather than straight edges."
   ]
  },
  {
   "cell_type": "markdown",
   "id": "5118bc37",
   "metadata": {},
   "source": [
    "# Assignment 3 "
   ]
  },
  {
   "cell_type": "code",
   "execution_count": null,
   "id": "84dac285",
   "metadata": {
    "scrolled": false
   },
   "outputs": [],
   "source": [
    "# Part 1\n",
    "fs1, x1 = wav.read(\"horn11short.wav\")\n",
    "#reads horn signal\n",
    "b, a = signal.butter(8, 550/(fs1/2), 'Highpass')\n",
    "filtered = signal.lfilter(b, a, x1)\n",
    "#creates highpass filter \n",
    "w, hf = signal.freqz(b, a)\n",
    "fig1 = plt.figure(figsize=(10,10))\n",
    "# magnitude plot for the high pass filter\n",
    "plt.subplot(121)\n",
    "plt.plot(w, 20 * np.log10(np.abs(hf)))\n",
    "plt.xlabel('Frequency (Hz)')\n",
    "plt.ylabel('Magnitude (dB)')\n",
    "plt.title('Magnitude plt')\n",
    "# phase plot\n",
    "x = np.zeros(50)\n",
    "x[0] = 1\n",
    "impulse_response(a, b, x)\n",
    "plt.xlabel('Time (s)')\n",
    "plt.ylabel('Amplitude')\n",
    "plt.title('Impulse Response')\n",
    "#impulse response plot for the high pass filter is created \n",
    "\n",
    "NFFT = 1024\n",
    "#plot for FFT horn signal \n",
    "XHF = np.fft.fft(x1, NFFT)\n",
    "index = np.arange(0, NFFT/2, 1)\n",
    "freq = index * int(fs1/NFFT)\n",
    "fig2 = plt.figure(figsize=(10, 10))\n",
    "plt.subplot(2, 1, 1)\n",
    "plt.plot(freq, np.log(np.abs(XHF[0:len(XHF) // 2]/ NFFT)))\n",
    "plt.xlabel('Frequency(Hz)')\n",
    "plt.ylabel('Amplitude')\n",
    "plt.title('Original Wave')\n",
    "\n",
    "nfft = 1024\n",
    "#plot for FFT horn signal \n",
    "XHF = np.fft.fft(filtered, NFFT)\n",
    "index = np.arange(0, NFFT/2, 1)\n",
    "freq = index * int(fs1/NFFT)\n",
    "fig2 = plt.figure(figsize=(10, 10))\n",
    "plt.subplot(2, 1, 2)\n",
    "plt.plot(freq, np.log(np.abs(XHF[0:len(XHF) // 2]/ NFFT)))\n",
    "plt.xlabel('Frequency(Hz)')\n",
    "plt.ylabel('Amplitude')\n",
    "plt.title('FFT filtered')\n",
    "\n",
    "# Part 2\n",
    "# Original Wave\n",
    "NFFT = 1024\n",
    "#plot for FFT horn signal \n",
    "XHF = np.fft.fft(x1, NFFT)\n",
    "index = np.arange(0, NFFT/2, 1)\n",
    "freq = index * int(fs1/NFFT)\n",
    "fig2 = plt.figure(figsize=(10, 10))\n",
    "plt.subplot(2, 1, 1)\n",
    "plt.plot(freq, np.log(np.abs(XHF[0:len(XHF) // 2]/ NFFT)))\n",
    "plt.xlabel('Frequency(Hz)')\n",
    "plt.ylabel('Amplitude')\n",
    "plt.title('Original Wave')\n",
    "# Plot and plot features for the noisy wave \n",
    "noiseamp = 1000\n",
    "noise  = noiseamp * np.random.randn(len(x1))\n",
    "new_noise = x1 + noise\n",
    "XHF = np.fft.fft(new_noise, NFFT)\n",
    "index = np.arange(0, nfft/2, 1)\n",
    "freq = index * int(fs1/NFFT)\n",
    "fig2 = plt.figure(figsize=(10, 10))\n",
    "plt.subplot(3, 1, 2)\n",
    "plt.plot(freq, np.log(np.abs(XHF[0:len(XHF) // 2]/ NFFT)))\n",
    "plt.xlabel('Frequency(Hz)')\n",
    "plt.ylabel('Amplitude')\n",
    "plt.title('FFT Noisy Wave')\n",
    "\n",
    "# Part 3\n",
    "#generates a lowpass signal for given frequency\n",
    "b, a = signal.butter(8, 1800/(fs1/2), 'lowpass')\n",
    "filtered_low = signal.lfilter(b, a, new_noise)\n",
    "#creates the impulse response for signal\n",
    "w, af = signal.freqz(b, a)\n",
    "fig1 = plt.figure(figsize=(23,10))\n",
    "# Amplitude plot w/ features \n",
    "plt.subplot(121)\n",
    "plt.plot(w, 20 * np.log10(np.abs(af)))\n",
    "plt.xlabel('Frequency(Hz)')\n",
    "plt.ylabel('Magnitude(dB)')\n",
    "plt.title('Magnitude plt')\n",
    "#zeros array\n",
    "x = np.zeros(50)\n",
    "x[0] = 1\n",
    "impulse_response(a, b, x)\n",
    "plt.xlabel('Time(s)')\n",
    "plt.ylabel('Amplitude')\n",
    "plt.title('Impulse Response (LP Filter)')\n",
    "#plots FFT filtered noisy wave\n",
    "XHF = np.fft.fft(filtered_low, NFFT)\n",
    "index = np.arange(0, NFFT/2, 1)\n",
    "freq = index * int(fs1/NFFT)\n",
    "fig2 = plt.figure(figsize=(10, 10))\n",
    "plt.subplot(2, 1, 1)\n",
    "plt.plot(freq, np.log(np.abs(XHF[0:len(XHF) // 2]/ NFFT)))\n",
    "plt.xlabel('Frequency(Hz)')\n",
    "plt.ylabel('Amplitude')\n",
    "plt.title('FFT Filtered Noisy Wave (LowPass Filter)')\n"
   ]
  },
  {
   "cell_type": "markdown",
   "id": "4ea7a6c5",
   "metadata": {},
   "source": [
    "# Discussion 3"
   ]
  },
  {
   "cell_type": "markdown",
   "id": "ce6cd348",
   "metadata": {},
   "source": [
    "The signal is only attenuated because the filter is not an ideal one and so the notes are not affected.The percieved notes are unchanged because the frequencies occur after the cutoff.\n",
    "The rate of change in the high pass filter is faster than the one in the low pass filter. "
   ]
  },
  {
   "cell_type": "markdown",
   "id": "998e1a76",
   "metadata": {},
   "source": [
    "# Assignment  4 "
   ]
  },
  {
   "cell_type": "code",
   "execution_count": 2,
   "id": "b98a6567",
   "metadata": {},
   "outputs": [
    {
     "name": "stderr",
     "output_type": "stream",
     "text": [
      "<ipython-input-2-0f4a45232bbe>:22: RuntimeWarning: divide by zero encountered in log10\n",
      "  h_bandpass_dB = 20*np.log10(np.abs(h_bandpass))\n"
     ]
    },
    {
     "ename": "NameError",
     "evalue": "name 'sa' is not defined",
     "output_type": "error",
     "traceback": [
      "\u001b[0;31m---------------------------------------------------------------------------\u001b[0m",
      "\u001b[0;31mNameError\u001b[0m                                 Traceback (most recent call last)",
      "\u001b[0;32m<ipython-input-2-0f4a45232bbe>\u001b[0m in \u001b[0;36m<module>\u001b[0;34m\u001b[0m\n\u001b[1;32m     72\u001b[0m \u001b[0moutfile\u001b[0m \u001b[0;34m=\u001b[0m \u001b[0;34m'music_ex1.wav'\u001b[0m\u001b[0;34m\u001b[0m\u001b[0;34m\u001b[0m\u001b[0m\n\u001b[1;32m     73\u001b[0m \u001b[0mwav\u001b[0m\u001b[0;34m.\u001b[0m\u001b[0mwrite\u001b[0m \u001b[0;34m=\u001b[0m \u001b[0;34m(\u001b[0m\u001b[0moutfile\u001b[0m\u001b[0;34m,\u001b[0m \u001b[0mfs_file\u001b[0m\u001b[0;34m,\u001b[0m \u001b[0moutput_2\u001b[0m\u001b[0;34m.\u001b[0m\u001b[0mastype\u001b[0m\u001b[0;34m(\u001b[0m\u001b[0;34m'int16'\u001b[0m\u001b[0;34m)\u001b[0m\u001b[0;34m)\u001b[0m\u001b[0;34m\u001b[0m\u001b[0;34m\u001b[0m\u001b[0m\n\u001b[0;32m---> 74\u001b[0;31m \u001b[0mwav_obj\u001b[0m \u001b[0;34m=\u001b[0m \u001b[0msa\u001b[0m\u001b[0;34m.\u001b[0m\u001b[0mWaveObject\u001b[0m\u001b[0;34m.\u001b[0m\u001b[0mfrom_wave_file\u001b[0m\u001b[0;34m(\u001b[0m\u001b[0;34m'music_ex1.wav'\u001b[0m\u001b[0;34m)\u001b[0m\u001b[0;34m\u001b[0m\u001b[0;34m\u001b[0m\u001b[0m\n\u001b[0m\u001b[1;32m     75\u001b[0m \u001b[0mplay_obj\u001b[0m \u001b[0;34m=\u001b[0m \u001b[0mwav_obj\u001b[0m\u001b[0;34m.\u001b[0m\u001b[0mplay\u001b[0m\u001b[0;34m(\u001b[0m\u001b[0;34m)\u001b[0m\u001b[0;34m\u001b[0m\u001b[0;34m\u001b[0m\u001b[0m\n\u001b[1;32m     76\u001b[0m \u001b[0mplay_obj\u001b[0m\u001b[0;34m.\u001b[0m\u001b[0mwait_done\u001b[0m\u001b[0;34m(\u001b[0m\u001b[0;34m)\u001b[0m\u001b[0;34m\u001b[0m\u001b[0;34m\u001b[0m\u001b[0m\n",
      "\u001b[0;31mNameError\u001b[0m: name 'sa' is not defined"
     ]
    },
    {
     "data": {
      "image/png": "[encoded data removed]",
      "text/plain": [
       "<Figure size 432x288 with 1 Axes>"
      ]
     },
     "metadata": {
      "needs_background": "light"
     },
     "output_type": "display_data"
    }
   ],
   "source": [
    "#Part 1 \n",
    "high_co = np.pi/2 #these are the values given to us\n",
    "low_co = np.pi/4\n",
    "\n",
    "w_high_co = high_co / np.pi #change to w\n",
    "w_low_co = low_co / np.pi\n",
    "w_bypass = [w_high_co, w_low_co]\n",
    "\n",
    "#writing butterworth circuit with order = 5\n",
    "b_low, a_low = sig.butter(5, w_low_co) \n",
    "b_high, a_high = sig.butter(5, w_high_co, btype = 'highpass')\n",
    "b_bandpass, a_bandpass = sig.butter(5, w_bypass, btype = 'bandpass')\n",
    "\n",
    "#compute frequency\n",
    "w_low, h_low = sig.freqz(b_low, a_low)\n",
    "w_high, h_high = sig.freqz(b_high, a_high)\n",
    "w_bandpass, h_bandpass = sig.freqz(b_bandpass, a_bandpass)\n",
    "\n",
    "#converting into dB\n",
    "h_low_dB = 20*np.log10(np.abs(h_low))\n",
    "h_high_dB = 20*np.log10(np.abs(h_high))\n",
    "h_bandpass_dB = 20*np.log10(np.abs(h_bandpass))\n",
    "\n",
    "#plotting graph\n",
    "plt.figure()\n",
    "plt.subplot(212)\n",
    "plt.plot(w_high, h_high_dB)\n",
    "plt.plot(w_low, h_low_dB)\n",
    "plt.plot(w_bandpass, h_bandpass_dB)\n",
    "plt.title('Response')\n",
    "plt.xlabel('frequency')\n",
    "plt.ylabel('magnitude')\n",
    "plt.ylim(-25,2)\n",
    "plt.xlim(0.05*np.pi)\n",
    "plt.tight_layout()\n",
    "\n",
    "#Part 2\n",
    "def op_equalize(signal,g1,g2,g3):\n",
    "    g1=10**(g1/20) #converting from log\n",
    "    g2=10**(g2/20)\n",
    "    g3=10**(g3/20)\n",
    "\n",
    "    fs_s, x_s = wav.read(signal)\n",
    "\n",
    "    if(g1==0):\n",
    "        low_output = sig.lfilter(b_low, a_low, x_s)\n",
    "    else:\n",
    "        low_output = g1*sig.lfilter(b_low, a_low, x_s)\n",
    "\n",
    "    if(g2==0):\n",
    "        high_output = sig.lfilter(b_high, a_high, x_s)\n",
    "    else:\n",
    "        high_output = g2*sig.lfilter(b_high, a_high, x_s)\n",
    "\n",
    "    if(g3==0):\n",
    "        bandpass_output = sig.lfilter(b_bandpass, a_bandpass, x_s)\n",
    "    else:\n",
    "        bandpass_output = sig.lfilter(b_bandpass, a_bandpass, x_s)\n",
    "\n",
    "#x2 to amplify\n",
    "    output = (low_output + high_output + bandpass_output) * 2 \n",
    "    return output\n",
    "\n",
    "#Part 3\n",
    "fs_file, x_file = wav.read('music.wav')\n",
    "output = op_equalize('music.wav',0,0,0)\n",
    "outfile = 'testing.wav'\n",
    "wav.write = (outfile, fs_file, output.astype('int16'))\n",
    "\n",
    "#Part 4\n",
    "output_2 = op_equalize('music.wav',5,5,0)\n",
    "outfile = 'music_ex1.wav'\n",
    "wav.write = (outfile, fs_file, output_2.astype('int16'))\n",
    "wav_obj = sa.WaveObject.from_wave_file('music_ex1.wav')\n",
    "play_obj = wav_obj.play() \n",
    "play_obj.wait_done()\n",
    "\n",
    "output_3 = op_equalize('music.wav',0,0,-70)\n",
    "outfile = 'music_ex2.wav'\n",
    "wav.write = (outfile, fs_file, output_3.astype('int16'))\n",
    "wav_obj = sa.WaveObject.from_wave_file('music_ex2.wav')\n",
    "play_obj = wav_obj.play() \n",
    "play_obj.wait_done()"
   ]
  },
  {
   "cell_type": "markdown",
   "id": "836cc36d",
   "metadata": {},
   "source": [
    "# Discussion 4 "
   ]
  },
  {
   "cell_type": "markdown",
   "id": "e10e44e4",
   "metadata": {},
   "source": [
    " While from experimenting no such constrains on the gains were spotted, since it worked at most experimented values, the filter does not work for critical frequency > 2"
   ]
  },
  {
   "cell_type": "code",
   "execution_count": null,
   "id": "2ead4b9c",
   "metadata": {},
   "outputs": [],
   "source": []
  }
 ],
 "metadata": {
  "kernelspec": {
   "display_name": "Python 3",
   "language": "python",
   "name": "python3"
  },
  "language_info": {
   "codemirror_mode": {
    "name": "ipython",
    "version": 3
   },
   "file_extension": ".py",
   "mimetype": "text/x-python",
   "name": "python",
   "nbconvert_exporter": "python",
   "pygments_lexer": "ipython3",
   "version": "3.8.8"
  }
 },
 "nbformat": 4,
 "nbformat_minor": 5
}
